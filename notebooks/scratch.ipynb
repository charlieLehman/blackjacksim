{
 "cells": [
  {
   "cell_type": "code",
   "execution_count": 8,
   "metadata": {
    "scrolled": false
   },
   "outputs": [
    {
     "data": {
      "application/vnd.jupyter.widget-view+json": {
       "model_id": "6cc18f8fe22149feb52271826f98d300",
       "version_major": 2,
       "version_minor": 0
      },
      "text/plain": [
       "HBox(children=(IntProgress(value=0), HTML(value='')))"
      ]
     },
     "metadata": {},
     "output_type": "display_data"
    },
    {
     "name": "stdout",
     "output_type": "stream",
     "text": [
      "\n"
     ]
    }
   ],
   "source": [
    "from blackjacksim.entities import *\n",
    "from blackjacksim.strategies import basic\n",
    "from tqdm import tnrange\n",
    "from tqdm import tqdm_notebook as tqdm\n",
    "import pandas as pd\n",
    "import matplotlib\n",
    "%matplotlib inline\n",
    "from matplotlib import pyplot as plt\n",
    "import seaborn as sns\n",
    "# import jtplot module in notebook\n",
    "from jupyterthemes import jtplot\n",
    "import multiprocessing as mp\n",
    "from time import time\n",
    "\n",
    "# set \"context\" (paper, notebook, talk, poster)\n",
    "# scale font-size of ticklabels, legend, etc.\n",
    "# remove spines from x and y axes and make grid dashed\n",
    "jtplot.style(context='poster', fscale=1.4, spines=False, gridlines='--')\n",
    "\n",
    "startingPool = 3000\n",
    "\n",
    "def one_round(procnum, send_end):\n",
    "    data = []\n",
    "    house = Blackjack32()\n",
    "    wallet = PlayerWallet(1,startingPool)\n",
    "    d = Dealer()\n",
    "    p = Player(basic, wallet, house)\n",
    "    s = Shoe(8,.25)\n",
    "    for t in range(100):\n",
    "        s = p.deal(s)\n",
    "        s = d.deal(s)\n",
    "        s = p.play(s, d.up_card)\n",
    "        s = d.play(s, p.hands)\n",
    "        for h in p.hands:\n",
    "            wallet.take_payout(house.payout(h, d.hand))\n",
    "        rw, rp = wallet.finish_round()\n",
    "        data.append({'Round':t,'Pool':wallet.wager_pool, 'Wager':rw, 'Payout':rp, 'Shoe Penetration':s._penetration_state})\n",
    "    send_end.send(data)\n",
    "\n",
    "\n",
    "df_list = []\n",
    "for n in range(1):\n",
    "    pipe_list = []\n",
    "    start = time()\n",
    "    processes = []\n",
    "    for i in tnrange(100):\n",
    "        recv_end, send_end = mp.Pipe(False)\n",
    "        p = mp.Process(target=one_round, args=(i, send_end))\n",
    "        processes.append(p)\n",
    "        pipe_list.append(recv_end)\n",
    "        p.start()\n",
    "\n",
    "    for process in processes:\n",
    "        process.join()\n",
    "    df_list.extend([x.recv() for x in pipe_list])\n",
    "data = [i for s in df_list for i in s]\n"
   ]
  },
  {
   "cell_type": "code",
   "execution_count": 9,
   "metadata": {},
   "outputs": [
    {
     "name": "stdout",
     "output_type": "stream",
     "text": [
      "10000\n"
     ]
    }
   ],
   "source": [
    "print(len(data))"
   ]
  },
  {
   "cell_type": "code",
   "execution_count": 5,
   "metadata": {},
   "outputs": [
    {
     "data": {
      "application/vnd.jupyter.widget-view+json": {
       "model_id": "f795edd951a94b42a503482e5a589138",
       "version_major": 2,
       "version_minor": 0
      },
      "text/plain": [
       "HBox(children=(IntProgress(value=0, max=100000), HTML(value='')))"
      ]
     },
     "metadata": {},
     "output_type": "display_data"
    },
    {
     "name": "stdout",
     "output_type": "stream",
     "text": [
      "\n",
      "100000\n"
     ]
    }
   ],
   "source": [
    "from blackjacksim.entities import *\n",
    "from blackjacksim.strategies import basic\n",
    "from tqdm import tnrange\n",
    "from tqdm import tqdm_notebook as tqdm\n",
    "import pandas as pd\n",
    "import matplotlib\n",
    "%matplotlib inline\n",
    "from matplotlib import pyplot as plt\n",
    "import seaborn as sns\n",
    "from multiprocessing import Process, Manager, Pool\n",
    "\n",
    "startingPool = 3000\n",
    "    \n",
    "data = []\n",
    "deck = Deck()\n",
    "\n",
    "def one_round(x):\n",
    "    house = Blackjack32()\n",
    "    wallet = PlayerWallet(1,startingPool)\n",
    "    d = Dealer()\n",
    "    p = Player(basic, wallet, house)\n",
    "    s = Shoe(6,.25)\n",
    "    _card = s.draw(1)[0]\n",
    "    for t in range(1):\n",
    "        s = p.deal(s)\n",
    "        s = d.deal(s)\n",
    "        s = p.play(s, d.up_card)\n",
    "        s = d.play(s, p.hands)\n",
    "        for h in p.hands:\n",
    "            wallet.take_payout(house.payout(h, d.hand))\n",
    "        rw, rp = wallet.finish_round()\n",
    "        data.append({'Round':t,'Pool':wallet.wager_pool, 'Wager':rw, 'Payout':rp, 'Shoe Penetration':s._penetration_state, 'RemovedCard':_card.value})\n",
    "        \n",
    "for i in tnrange(100000):\n",
    "    one_round(i)\n",
    "            \n",
    "print(len(data))\n",
    "df = pd.DataFrame(list(data))\n",
    "df['Advantage'] = (df.Payout-df.Wager)"
   ]
  },
  {
   "cell_type": "code",
   "execution_count": 8,
   "metadata": {},
   "outputs": [
    {
     "name": "stdout",
     "output_type": "stream",
     "text": [
      "RemovedCard\n",
      "2    -0.141425\n",
      "3     1.879749\n",
      "4    -0.945824\n",
      "5     1.331437\n",
      "6    -0.621447\n",
      "7    -1.108358\n",
      "8    -1.519086\n",
      "9    -0.932280\n",
      "10   -0.906026\n",
      "11    1.076803\n",
      "Name: Advantage, dtype: float64\n",
      "RemovedCard\n",
      "2     116.934311\n",
      "3     118.188265\n",
      "4     116.775394\n",
      "5     117.906368\n",
      "6     116.158242\n",
      "7     118.047705\n",
      "8     117.337043\n",
      "9     117.360181\n",
      "10    117.450602\n",
      "11    118.024076\n",
      "Name: Advantage, dtype: float64\n"
     ]
    }
   ],
   "source": [
    "print(df.groupby('RemovedCard').mean().Advantage*100)\n",
    "print(df.groupby('RemovedCard').std().Advantage*100)"
   ]
  }
 ],
 "metadata": {
  "kernelspec": {
   "display_name": "Python 3",
   "language": "python",
   "name": "python3"
  },
  "language_info": {
   "codemirror_mode": {
    "name": "ipython",
    "version": 3
   },
   "file_extension": ".py",
   "mimetype": "text/x-python",
   "name": "python",
   "nbconvert_exporter": "python",
   "pygments_lexer": "ipython3",
   "version": "3.7.3"
  }
 },
 "nbformat": 4,
 "nbformat_minor": 2
}
