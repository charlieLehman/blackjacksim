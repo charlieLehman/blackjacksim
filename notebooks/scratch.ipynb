{
 "cells": [
  {
   "cell_type": "code",
   "execution_count": null,
   "metadata": {},
   "outputs": [],
   "source": [
    "from blackjacksim.entities import Shoe, Player, Dealer, PlayerWallet, Blackjack32\n",
    "from blackjacksim.strategies import basic\n",
    "from tqdm import tnrange\n",
    "from tqdm import tqdm_notebook as tqdm\n",
    "import pandas as pd\n",
    "import matplotlib\n",
    "%matplotlib inline\n",
    "import seaborn as sns\n",
    "\n",
    "pens = [0.1, 0.25, 0.45, 0.65, 0.85, 0.95]\n",
    "data = []\n",
    "for _t in tnrange(1000):\n",
    "    d = Dealer()\n",
    "    house = Blackjack32()\n",
    "    wallet = PlayerWallet(10,10000)\n",
    "    p = Player(basic, wallet, house)\n",
    "    s = Shoe(6,.75)\n",
    "    for t in range(300):\n",
    "        s = p.deal(s)\n",
    "        s = d.deal(s)\n",
    "        s = p.play(s, d.up_card)\n",
    "        s = d.play(s, p.hands)\n",
    "        for h in p.hands:\n",
    "            wallet.take_payout(house.payout(h, d.hand))\n",
    "        data.append({'t':t,'pool':wallet.wager_pool})\n",
    "df = pd.DataFrame(data)\n",
    "sns.lineplot(x='t', y='pool', data=df)"
   ]
  },
  {
   "cell_type": "code",
   "execution_count": 3,
   "metadata": {},
   "outputs": [
    {
     "name": "stdout",
     "output_type": "stream",
     "text": [
      "{4: 'akj', 3: 'kjkj'}\n",
      "akj\n"
     ]
    }
   ],
   "source": [
    "x = {4:'akj'}\n",
    "x.update({3:'kjkj'})\n",
    "print(x)\n",
    "y = x[4]\n",
    "del x[4]\n",
    "print(y)"
   ]
  },
  {
   "cell_type": "code",
   "execution_count": null,
   "metadata": {},
   "outputs": [],
   "source": []
  }
 ],
 "metadata": {
  "kernelspec": {
   "display_name": "Python 3",
   "language": "python",
   "name": "python3"
  }
 },
 "nbformat": 4,
 "nbformat_minor": 2
}
