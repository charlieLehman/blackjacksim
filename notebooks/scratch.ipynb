{
 "cells": [
  {
   "cell_type": "code",
   "execution_count": 8,
   "metadata": {
    "scrolled": false
   },
   "outputs": [
    {
     "data": {
      "application/vnd.jupyter.widget-view+json": {
       "model_id": "6cc18f8fe22149feb52271826f98d300",
       "version_major": 2,
       "version_minor": 0
      },
      "text/plain": [
       "HBox(children=(IntProgress(value=0), HTML(value='')))"
      ]
     },
     "metadata": {},
     "output_type": "display_data"
    },
    {
     "name": "stdout",
     "output_type": "stream",
     "text": [
      "\n"
     ]
    }
   ],
   "source": [
    "from blackjacksim.entities import *\n",
    "from blackjacksim.strategies import basic\n",
    "from tqdm import tnrange\n",
    "from tqdm import tqdm_notebook as tqdm\n",
    "import pandas as pd\n",
    "import matplotlib\n",
    "%matplotlib inline\n",
    "from matplotlib import pyplot as plt\n",
    "import seaborn as sns\n",
    "# import jtplot module in notebook\n",
    "from jupyterthemes import jtplot\n",
    "import multiprocessing as mp\n",
    "from time import time\n",
    "\n",
    "# set \"context\" (paper, notebook, talk, poster)\n",
    "# scale font-size of ticklabels, legend, etc.\n",
    "# remove spines from x and y axes and make grid dashed\n",
    "jtplot.style(context='poster', fscale=1.4, spines=False, gridlines='--')\n",
    "\n",
    "startingPool = 3000\n",
    "\n",
    "def one_round(procnum, send_end):\n",
    "    data = []\n",
    "    house = Blackjack32()\n",
    "    wallet = PlayerWallet(1,startingPool)\n",
    "    d = Dealer()\n",
    "    p = Player(basic, wallet, house)\n",
    "    s = Shoe(8,.25)\n",
    "    for t in range(100):\n",
    "        s = p.deal(s)\n",
    "        s = d.deal(s)\n",
    "        s = p.play(s, d.up_card)\n",
    "        s = d.play(s, p.hands)\n",
    "        for h in p.hands:\n",
    "            wallet.take_payout(house.payout(h, d.hand))\n",
    "        rw, rp = wallet.finish_round()\n",
    "        data.append({'Round':t,'Pool':wallet.wager_pool, 'Wager':rw, 'Payout':rp, 'Shoe Penetration':s._penetration_state})\n",
    "    send_end.send(data)\n",
    "\n",
    "\n",
    "df_list = []\n",
    "for n in range(1):\n",
    "    pipe_list = []\n",
    "    start = time()\n",
    "    processes = []\n",
    "    for i in tnrange(100):\n",
    "        recv_end, send_end = mp.Pipe(False)\n",
    "        p = mp.Process(target=one_round, args=(i, send_end))\n",
    "        processes.append(p)\n",
    "        pipe_list.append(recv_end)\n",
    "        p.start()\n",
    "\n",
    "    for process in processes:\n",
    "        process.join()\n",
    "    df_list.extend([x.recv() for x in pipe_list])\n",
    "data = [i for s in df_list for i in s]\n"
   ]
  },
  {
   "cell_type": "code",
   "execution_count": 9,
   "metadata": {},
   "outputs": [
    {
     "name": "stdout",
     "output_type": "stream",
     "text": [
      "10000\n"
     ]
    }
   ],
   "source": [
    "print(len(data))"
   ]
  },
  {
   "cell_type": "code",
   "execution_count": 12,
   "metadata": {},
   "outputs": [
    {
     "data": {
      "application/vnd.jupyter.widget-view+json": {
       "model_id": "830b785e8fef4e199d14eed993beac3f",
       "version_major": 2,
       "version_minor": 0
      },
      "text/plain": [
       "HBox(children=(IntProgress(value=0, max=1000), HTML(value='')))"
      ]
     },
     "metadata": {},
     "output_type": "display_data"
    },
    {
     "name": "stdout",
     "output_type": "stream",
     "text": [
      "\n"
     ]
    },
    {
     "data": {
      "application/vnd.jupyter.widget-view+json": {
       "model_id": "775753039c2f4bf0a0e96b41d727036e",
       "version_major": 2,
       "version_minor": 0
      },
      "text/plain": [
       "HBox(children=(IntProgress(value=0, max=1000), HTML(value='')))"
      ]
     },
     "metadata": {},
     "output_type": "display_data"
    },
    {
     "name": "stdout",
     "output_type": "stream",
     "text": [
      "\n"
     ]
    },
    {
     "data": {
      "application/vnd.jupyter.widget-view+json": {
       "model_id": "444aa8c741f24c5eac5f486b3d12dac7",
       "version_major": 2,
       "version_minor": 0
      },
      "text/plain": [
       "HBox(children=(IntProgress(value=0, max=1000), HTML(value='')))"
      ]
     },
     "metadata": {},
     "output_type": "display_data"
    },
    {
     "name": "stdout",
     "output_type": "stream",
     "text": [
      "\n"
     ]
    },
    {
     "data": {
      "application/vnd.jupyter.widget-view+json": {
       "model_id": "c5cbf1892dd8471c81e28cc7fb2d6f9d",
       "version_major": 2,
       "version_minor": 0
      },
      "text/plain": [
       "HBox(children=(IntProgress(value=0, max=1000), HTML(value='')))"
      ]
     },
     "metadata": {},
     "output_type": "display_data"
    },
    {
     "name": "stdout",
     "output_type": "stream",
     "text": [
      "\n",
      "2000000\n"
     ]
    }
   ],
   "source": [
    "from blackjacksim.entities import *\n",
    "from blackjacksim.strategies import basic\n",
    "from tqdm import tnrange\n",
    "from tqdm import tqdm_notebook as tqdm\n",
    "import pandas as pd\n",
    "import matplotlib\n",
    "%matplotlib inline\n",
    "from matplotlib import pyplot as plt\n",
    "import seaborn as sns\n",
    "from multiprocessing import Process, Manager, Pool\n",
    "\n",
    "    \n",
    "def game(data, house, wallet, dealer, player, shoe, num_rounds=1):\n",
    "    for t in range(num_rounds):\n",
    "        try:\n",
    "            s_pen = shoe.penetration\n",
    "            s_state = shoe.state\n",
    "            shoe = player.deal(shoe)\n",
    "            shoe = dealer.deal(shoe)\n",
    "            shoe = player.play(shoe, dealer.up_card)\n",
    "            shoe = dealer.play(shoe, player.hands)\n",
    "            for h in player.hands:\n",
    "                wallet.take_payout(house.payout(h, dealer.hand))\n",
    "            rw, rp = wallet.finish_round()\n",
    "            house.finish_round()\n",
    "            data.append({'Round':t,\n",
    "                         'Pool':wallet.wager_pool, \n",
    "                         'Wager':rw, \n",
    "                         'Payout':rp, \n",
    "                         'Shoe Penetration':s_pen, \n",
    "                         'State':str(s_state), \n",
    "                         'Advantage':rp-rw,\n",
    "                        'House':str(house)})\n",
    "            shoe = dealer.inspect_shoe(shoe)\n",
    "        except:\n",
    "            raise Exception(player.hands)\n",
    "                \n",
    "    return data\n",
    "\n",
    "startingPool = 100\n",
    "#data = []\n",
    "for house in [Blackjack32(), Blackjack65(), Blackjack32NoSplit(), Blackjack65NoSplit()]:\n",
    "    for i in tnrange(1000):\n",
    "        wallet = PlayerWallet(1,startingPool)\n",
    "        dealer = Dealer()\n",
    "        player = Player(basic, wallet, house)\n",
    "        shoe = Shoe(8,.75, house)\n",
    "        data = game(data, house, wallet, dealer, player, shoe, num_rounds=100)\n",
    "            \n",
    "print(len(data))\n",
    "df = pd.DataFrame(list(data))"
   ]
  },
  {
   "cell_type": "code",
   "execution_count": null,
   "metadata": {},
   "outputs": [
    {
     "name": "stdout",
     "output_type": "stream",
     "text": [
      "                   Advantage                    \n",
      "                        mean       std       var\n",
      "House                                           \n",
      "Blackjack32        -0.002398  1.183659  1.401048\n",
      "Blackjack32NoSplit -0.006055  1.184483  1.403001\n",
      "Blackjack65        -0.019391  1.169290  1.367238\n",
      "Blackjack65NoSplit -0.016022  1.169789  1.368406\n"
     ]
    }
   ],
   "source": [
    "print(df.groupby('House').agg({'Advantage':['mean','std','var']}))\n",
    "sns.lineplot(x='Round', y='Pool', hue='House', data=df)\n",
    "plt.show()"
   ]
  }
 ],
 "metadata": {
  "kernelspec": {
   "display_name": "Python 3",
   "language": "python",
   "name": "python3"
  },
  "language_info": {
   "codemirror_mode": {
    "name": "ipython",
    "version": 3
   },
   "file_extension": ".py",
   "mimetype": "text/x-python",
   "name": "python",
   "nbconvert_exporter": "python",
   "pygments_lexer": "ipython3",
   "version": "3.7.3"
  }
 },
 "nbformat": 4,
 "nbformat_minor": 2
}
