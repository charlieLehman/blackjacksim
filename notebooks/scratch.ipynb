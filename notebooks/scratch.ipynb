{
 "cells": [
  {
   "cell_type": "code",
   "execution_count": null,
   "metadata": {
    "scrolled": false
   },
   "outputs": [
    {
     "data": {
      "application/vnd.jupyter.widget-view+json": {
       "model_id": "3ecbbdc3234f41a5bf2ba15c93d45d1d",
       "version_major": 2,
       "version_minor": 0
      },
      "text/plain": [
       "HBox(children=(IntProgress(value=0, max=10000), HTML(value='')))"
      ]
     },
     "metadata": {},
     "output_type": "display_data"
    },
    {
     "name": "stdout",
     "output_type": "stream",
     "text": [
      "\n"
     ]
    }
   ],
   "source": [
    "from blackjacksim.entities import *\n",
    "from blackjacksim.strategies import basic\n",
    "from tqdm import tnrange\n",
    "from tqdm import tqdm_notebook as tqdm\n",
    "import pandas as pd\n",
    "import matplotlib\n",
    "%matplotlib inline\n",
    "from matplotlib import pyplot as plt\n",
    "import seaborn as sns\n",
    "# import jtplot module in notebook\n",
    "from jupyterthemes import jtplot\n",
    "from multiprocessing import Process, Manager, Pool\n",
    "\n",
    "# set \"context\" (paper, notebook, talk, poster)\n",
    "# scale font-size of ticklabels, legend, etc.\n",
    "# remove spines from x and y axes and make grid dashed\n",
    "jtplot.style(context='poster', fscale=1.4, spines=False, gridlines='--')\n",
    "\n",
    "startingPool = 3000\n",
    "    \n",
    "manager = Manager()\n",
    "data = manager.list()\n",
    "def one_round(x):\n",
    "    house = Blackjack32()\n",
    "    wallet = PlayerWallet(1,startingPool)\n",
    "    d = Dealer()\n",
    "    p = Player(basic, wallet, house)\n",
    "    s = Shoe(8,.25)\n",
    "    for t in range(100):\n",
    "        s = p.deal(s)\n",
    "        s = d.deal(s)\n",
    "        s = p.play(s, d.up_card)\n",
    "        s = d.play(s, p.hands)\n",
    "        for h in p.hands:\n",
    "            wallet.take_payout(house.payout(h, d.hand))\n",
    "        rw, rp = wallet.finish_round()\n",
    "        data.append({'Round':t,'Pool':wallet.wager_pool, 'Wager':rw, 'Payout':rp, 'Shoe Penetration':s._penetration_state})\n",
    "        \n",
    "processes = []\n",
    "with Pool(processes=12) as pool:\n",
    "    max_ = 10000\n",
    "    with tqdm(total=max_) as pbar:\n",
    "        for i, _ in enumerate(pool.imap_unordered(one_round, range(0, max_))):\n",
    "            pbar.update()\n",
    "            \n",
    "df = pd.DataFrame(list(data))\n",
    "df['Advantage'] = (df.Payout-df.Wager)\n",
    "ax = sns.lineplot(x='Round', y='Advantage', data=df)\n",
    "ax.axhline(y=df.Advantage.mean(), color='r')\n",
    "ax.set_title('Player Advantage {:.3f}%'.format(df.Advantage.mean()*100))\n"
   ]
  }
 ],
 "metadata": {
  "kernelspec": {
   "display_name": "Python 3",
   "language": "python",
   "name": "python3"
  },
  "language_info": {
   "codemirror_mode": {
    "name": "ipython",
    "version": 3
   },
   "file_extension": ".py",
   "mimetype": "text/x-python",
   "name": "python",
   "nbconvert_exporter": "python",
   "pygments_lexer": "ipython3",
   "version": "3.7.3"
  }
 },
 "nbformat": 4,
 "nbformat_minor": 2
}
