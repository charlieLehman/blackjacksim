{
 "cells": [
  {
   "cell_type": "code",
   "execution_count": 28,
   "metadata": {},
   "outputs": [
    {
     "data": {
      "application/vnd.jupyter.widget-view+json": {
       "model_id": "0b6861136d3d4122a7778a835ccd566e",
       "version_major": 2,
       "version_minor": 0
      },
      "text/plain": [
       "HBox(children=(IntProgress(value=0, max=1000), HTML(value='')))"
      ]
     },
     "metadata": {},
     "output_type": "display_data"
    },
    {
     "name": "stdout",
     "output_type": "stream",
     "text": [
      "\n"
     ]
    },
    {
     "data": {
      "text/plain": [
       "<matplotlib.axes._subplots.AxesSubplot at 0x7fdb7a2cef98>"
      ]
     },
     "execution_count": 28,
     "metadata": {},
     "output_type": "execute_result"
    },
    {
     "data": {
      "image/png": "[encoded data removed]",
      "text/plain": [
       "<Figure size 432x288 with 1 Axes>"
      ]
     },
     "metadata": {
      "needs_background": "light"
     },
     "output_type": "display_data"
    }
   ],
   "source": [
    "from blackjacksim.entities import Shoe, Player, Dealer, PlayerWallet, Blackjack32\n",
    "from blackjacksim.strategies import basic\n",
    "from tqdm import tnrange\n",
    "from tqdm import tqdm_notebook as tqdm\n",
    "import pandas as pd\n",
    "import matplotlib\n",
    "%matplotlib inline\n",
    "import seaborn as sns\n",
    "\n",
    "pens = [0.1, 0.25, 0.45, 0.65, 0.85, 0.95]\n",
    "data = []\n",
    "for _t in tnrange(1000):\n",
    "    d = Dealer()\n",
    "    house = Blackjack32()\n",
    "    wallet = PlayerWallet(10,10000)\n",
    "    p = Player(basic, wallet, house)\n",
    "    s = Shoe(6,.75)\n",
    "    for t in range(300):\n",
    "        s = p.deal(s)\n",
    "        s = d.deal(s)\n",
    "        s = p.play(s, d.up_card)\n",
    "        s = d.play(s, p.hands)\n",
    "        for h in p.hands:\n",
    "            wallet.take_payout(house.payout(h, d.hand))\n",
    "        data.append({'t':t,'pool':wallet.wager_pool})\n",
    "df = pd.DataFrame(data)\n",
    "sns.lineplot(x='t', y='pool', data=df)"
   ]
  },
  {
   "cell_type": "code",
   "execution_count": 3,
   "metadata": {},
   "outputs": [
    {
     "name": "stdout",
     "output_type": "stream",
     "text": [
      "{4: 'akj', 3: 'kjkj'}\n",
      "akj\n"
     ]
    }
   ],
   "source": [
    "x = {4:'akj'}\n",
    "x.update({3:'kjkj'})\n",
    "print(x)\n",
    "y = x[4]\n",
    "del x[4]\n",
    "print(y)"
   ]
  },
  {
   "cell_type": "code",
   "execution_count": null,
   "metadata": {},
   "outputs": [],
   "source": []
  }
 ],
 "metadata": {
  "kernelspec": {
   "display_name": "Python 3",
   "language": "python",
   "name": "python3"
  },
  "language_info": {
   "codemirror_mode": {
    "name": "ipython",
    "version": 3
   },
   "file_extension": ".py",
   "mimetype": "text/x-python",
   "name": "python",
   "nbconvert_exporter": "python",
   "pygments_lexer": "ipython3",
   "version": "3.7.3"
  }
 },
 "nbformat": 4,
 "nbformat_minor": 2
}
