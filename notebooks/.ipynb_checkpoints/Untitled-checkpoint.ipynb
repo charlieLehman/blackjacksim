{
 "cells": [
  {
   "cell_type": "code",
   "execution_count": 5,
   "metadata": {},
   "outputs": [
    {
     "data": {
      "application/vnd.jupyter.widget-view+json": {
       "model_id": "ae45cb59f4264cadbbb8996271298f80",
       "version_major": 2,
       "version_minor": 0
      },
      "text/plain": [
       "HBox(children=(IntProgress(value=0, max=100000), HTML(value='')))"
      ]
     },
     "metadata": {},
     "output_type": "display_data"
    },
    {
     "name": "stdout",
     "output_type": "stream",
     "text": [
      "\n",
      "-0.04287072547993209\n"
     ]
    }
   ],
   "source": [
    "from blackjacksim.entities import Shoe, Player, Dealer\n",
    "from blackjacksim.strategies import basic\n",
    "from tqdm import tnrange\n",
    "\n",
    "d = Dealer()\n",
    "p = Player(basic, lambda hand,w: 'Hit', 1, 10)\n",
    "s = Shoe(6,.2)\n",
    "wins = 0\n",
    "betting_units = 100000\n",
    "for _ in tnrange(betting_units):\n",
    "    s = p.deal(s)\n",
    "    s = d.deal(s)\n",
    "    if not d.blackjack:\n",
    "        s = p.play(s, d.up_card)\n",
    "        s = d.play(s, p.hands)\n",
    "    betting_units -= 1\n",
    "    for hand in p.hands:\n",
    "        betting_units += 1\n",
    "        wins += 1 if ((hand.value > d.hand.value) and hand.value <= 21) or d.hand.value > 21 else 0\n",
    "        if hand.blackjack and not d.blackjack:\n",
    "            wins += 1.5\n",
    "        if hand.value == d.hand.value:\n",
    "            betting_units -= 1\n",
    "k = wins/betting_units\n",
    "print(k - (1-k))"
   ]
  },
  {
   "cell_type": "code",
   "execution_count": null,
   "metadata": {},
   "outputs": [],
   "source": []
  }
 ],
 "metadata": {
  "kernelspec": {
   "display_name": "Python 3",
   "language": "python",
   "name": "python3"
  }
 },
 "nbformat": 4,
 "nbformat_minor": 2
}
